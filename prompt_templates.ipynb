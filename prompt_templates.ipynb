{
 "cells": [
  {
   "cell_type": "code",
   "execution_count": 6,
   "id": "a0b1bde7",
   "metadata": {},
   "outputs": [
    {
     "name": "stdout",
     "output_type": "stream",
     "text": [
      "Requirement already satisfied: langchain-groq in c:\\users\\aksha\\miniconda3\\lib\\site-packages (0.3.7)\n",
      "Requirement already satisfied: langchain-core<1.0.0,>=0.3.72 in c:\\users\\aksha\\miniconda3\\lib\\site-packages (from langchain-groq) (0.3.74)\n",
      "Requirement already satisfied: groq<1,>=0.30.0 in c:\\users\\aksha\\miniconda3\\lib\\site-packages (from langchain-groq) (0.31.0)\n",
      "Requirement already satisfied: anyio<5,>=3.5.0 in c:\\users\\aksha\\miniconda3\\lib\\site-packages (from groq<1,>=0.30.0->langchain-groq) (4.10.0)\n",
      "Requirement already satisfied: distro<2,>=1.7.0 in c:\\users\\aksha\\miniconda3\\lib\\site-packages (from groq<1,>=0.30.0->langchain-groq) (1.9.0)\n",
      "Requirement already satisfied: httpx<1,>=0.23.0 in c:\\users\\aksha\\miniconda3\\lib\\site-packages (from groq<1,>=0.30.0->langchain-groq) (0.28.1)\n",
      "Requirement already satisfied: pydantic<3,>=1.9.0 in c:\\users\\aksha\\miniconda3\\lib\\site-packages (from groq<1,>=0.30.0->langchain-groq) (2.11.7)\n",
      "Requirement already satisfied: sniffio in c:\\users\\aksha\\miniconda3\\lib\\site-packages (from groq<1,>=0.30.0->langchain-groq) (1.3.1)\n",
      "Requirement already satisfied: typing-extensions<5,>=4.10 in c:\\users\\aksha\\miniconda3\\lib\\site-packages (from groq<1,>=0.30.0->langchain-groq) (4.12.2)\n",
      "Requirement already satisfied: idna>=2.8 in c:\\users\\aksha\\miniconda3\\lib\\site-packages (from anyio<5,>=3.5.0->groq<1,>=0.30.0->langchain-groq) (3.7)\n",
      "Requirement already satisfied: certifi in c:\\users\\aksha\\miniconda3\\lib\\site-packages (from httpx<1,>=0.23.0->groq<1,>=0.30.0->langchain-groq) (2025.8.3)\n",
      "Requirement already satisfied: httpcore==1.* in c:\\users\\aksha\\miniconda3\\lib\\site-packages (from httpx<1,>=0.23.0->groq<1,>=0.30.0->langchain-groq) (1.0.9)\n",
      "Requirement already satisfied: h11>=0.16 in c:\\users\\aksha\\miniconda3\\lib\\site-packages (from httpcore==1.*->httpx<1,>=0.23.0->groq<1,>=0.30.0->langchain-groq) (0.16.0)\n",
      "Requirement already satisfied: langsmith>=0.3.45 in c:\\users\\aksha\\miniconda3\\lib\\site-packages (from langchain-core<1.0.0,>=0.3.72->langchain-groq) (0.4.15)\n",
      "Requirement already satisfied: tenacity!=8.4.0,<10.0.0,>=8.1.0 in c:\\users\\aksha\\miniconda3\\lib\\site-packages (from langchain-core<1.0.0,>=0.3.72->langchain-groq) (9.1.2)\n",
      "Requirement already satisfied: jsonpatch<2.0,>=1.33 in c:\\users\\aksha\\miniconda3\\lib\\site-packages (from langchain-core<1.0.0,>=0.3.72->langchain-groq) (1.33)\n",
      "Requirement already satisfied: PyYAML>=5.3 in c:\\users\\aksha\\miniconda3\\lib\\site-packages (from langchain-core<1.0.0,>=0.3.72->langchain-groq) (6.0.2)\n",
      "Requirement already satisfied: packaging>=23.2 in c:\\users\\aksha\\miniconda3\\lib\\site-packages (from langchain-core<1.0.0,>=0.3.72->langchain-groq) (24.2)\n",
      "Requirement already satisfied: jsonpointer>=1.9 in c:\\users\\aksha\\miniconda3\\lib\\site-packages (from jsonpatch<2.0,>=1.33->langchain-core<1.0.0,>=0.3.72->langchain-groq) (2.1)\n",
      "Requirement already satisfied: annotated-types>=0.6.0 in c:\\users\\aksha\\miniconda3\\lib\\site-packages (from pydantic<3,>=1.9.0->groq<1,>=0.30.0->langchain-groq) (0.6.0)\n",
      "Requirement already satisfied: pydantic-core==2.33.2 in c:\\users\\aksha\\miniconda3\\lib\\site-packages (from pydantic<3,>=1.9.0->groq<1,>=0.30.0->langchain-groq) (2.33.2)\n",
      "Requirement already satisfied: typing-inspection>=0.4.0 in c:\\users\\aksha\\miniconda3\\lib\\site-packages (from pydantic<3,>=1.9.0->groq<1,>=0.30.0->langchain-groq) (0.4.0)\n",
      "Requirement already satisfied: orjson>=3.9.14 in c:\\users\\aksha\\miniconda3\\lib\\site-packages (from langsmith>=0.3.45->langchain-core<1.0.0,>=0.3.72->langchain-groq) (3.11.2)\n",
      "Requirement already satisfied: requests-toolbelt>=1.0.0 in c:\\users\\aksha\\miniconda3\\lib\\site-packages (from langsmith>=0.3.45->langchain-core<1.0.0,>=0.3.72->langchain-groq) (1.0.0)\n",
      "Requirement already satisfied: requests>=2.0.0 in c:\\users\\aksha\\miniconda3\\lib\\site-packages (from langsmith>=0.3.45->langchain-core<1.0.0,>=0.3.72->langchain-groq) (2.32.4)\n",
      "Requirement already satisfied: zstandard>=0.23.0 in c:\\users\\aksha\\miniconda3\\lib\\site-packages (from langsmith>=0.3.45->langchain-core<1.0.0,>=0.3.72->langchain-groq) (0.23.0)\n",
      "Requirement already satisfied: charset_normalizer<4,>=2 in c:\\users\\aksha\\miniconda3\\lib\\site-packages (from requests>=2.0.0->langsmith>=0.3.45->langchain-core<1.0.0,>=0.3.72->langchain-groq) (3.3.2)\n",
      "Requirement already satisfied: urllib3<3,>=1.21.1 in c:\\users\\aksha\\miniconda3\\lib\\site-packages (from requests>=2.0.0->langsmith>=0.3.45->langchain-core<1.0.0,>=0.3.72->langchain-groq) (2.5.0)\n"
     ]
    }
   ],
   "source": [
    "!pip install langchain-groq\n"
   ]
  },
  {
   "cell_type": "code",
   "execution_count": 27,
   "id": "a672f26f",
   "metadata": {},
   "outputs": [],
   "source": [
    "import getpass\n",
    "import os\n",
    "\n",
    "try:\n",
    "    \n",
    "    from dotenv import load_dotenv\n",
    "\n",
    "    load_dotenv()\n",
    "except ImportError:\n",
    "    pass\n",
    "\n",
    "os.environ[\"LANGSMITH_TRACING\"] = \"true\"\n",
    "if \"LANGSMITH_API_KEY\" not in os.environ:\n",
    "    os.environ[\"LANGSMITH_API_KEY\"] = getpass.getpass(\n",
    "        prompt=\"Enter your LangSmith API key (optional): \"\n",
    "    )\n",
    "if \"LANGSMITH_PROJECT\" not in os.environ:\n",
    "    os.environ[\"LANGSMITH_PROJECT\"] = getpass.getpass(\n",
    "        prompt='Enter your LangSmith Project Name (default = \"default\"): '\n",
    "    )\n",
    "    if not os.environ.get(\"LANGSMITH_PROJECT\"):\n",
    "        os.environ[\"LANGSMITH_PROJECT\"] = \"default\""
   ]
  },
  {
   "cell_type": "code",
   "execution_count": 28,
   "id": "75572890",
   "metadata": {},
   "outputs": [],
   "source": [
    "import getpass\n",
    "import os\n",
    "\n",
    "try:\n",
    "    \n",
    "    from dotenv import load_dotenv\n",
    "\n",
    "    load_dotenv()\n",
    "except ImportError:\n",
    "    pass\n",
    "\n",
    "os.environ[\"LANGSMITH_TRACING\"] = \"true\"\n",
    "if \"LANGSMITH_API_KEY\" not in os.environ:\n",
    "    os.environ[\"LANGSMITH_API_KEY\"] = getpass.getpass(\n",
    "        prompt=\"Enter your LangSmith API key (optional): \"\n",
    "    )\n",
    "if \"LANGSMITH_PROJECT\" not in os.environ:\n",
    "    os.environ[\"LANGSMITH_PROJECT\"] = getpass.getpass(\n",
    "        prompt='Enter your LangSmith Project Name (default = \"default\"): '\n",
    "    )\n",
    "    if not os.environ.get(\"LANGSMITH_PROJECT\"):\n",
    "        os.environ[\"LANGSMITH_PROJECT\"] = \"default\""
   ]
  },
  {
   "cell_type": "code",
   "execution_count": 2,
   "id": "03bebb78",
   "metadata": {},
   "outputs": [],
   "source": [
    "from langchain_groq import ChatGroq\n",
    "import os\n",
    "\n",
    "model = ChatGroq(\n",
    "    model=\"openai/gpt-oss-20b\",   \n",
    "    api_key=os.getenv(\"GROQ_API_KEY\")  \n",
    ")\n"
   ]
  },
  {
   "cell_type": "code",
   "execution_count": 4,
   "id": "5b8ccafd",
   "metadata": {},
   "outputs": [],
   "source": [
    "# Prompt template\n",
    "\n",
    "prompt_template = \"\"\"Translate the given text in to the given language: \n",
    "Text: {text}\n",
    "Lang: {lang}\n",
    "\"\"\""
   ]
  },
  {
   "cell_type": "code",
   "execution_count": 5,
   "id": "ff9f426f",
   "metadata": {},
   "outputs": [
    {
     "name": "stdout",
     "output_type": "stream",
     "text": [
      "Translate the given text in to the given language: \n",
      "Text: Where are you?\n",
      "Lang: punjabi\n",
      "\n",
      "ਤੁਸੀਂ ਕਿੱਥੇ ਹੋ?\n"
     ]
    }
   ],
   "source": [
    "prompt = prompt_template.format(text = \"Where are you?\", lang=\"punjabi\")\n",
    "print(prompt)\n",
    "print(model.invoke(prompt).content)"
   ]
  },
  {
   "cell_type": "code",
   "execution_count": 6,
   "id": "ba19e0c2",
   "metadata": {},
   "outputs": [],
   "source": [
    "prompt_template = \"\"\"You are an assistant for question-answering tasks. Use the following pieces of retrieved context to answer the question. If you don't know the answer, just say that you don't know. Use three sentences maximum and keep the answer concise.\n",
    "Question: {question} \n",
    "Context: {context} \n",
    "Answer:\"\"\""
   ]
  },
  {
   "cell_type": "code",
   "execution_count": 7,
   "id": "cb632c01",
   "metadata": {},
   "outputs": [
    {
     "name": "stdout",
     "output_type": "stream",
     "text": [
      "Banta responded by slapping Santa back after Santa slapped him. He then told Santa “who asked.” Thus, Banta retaliated with a slap.\n"
     ]
    }
   ],
   "source": [
    "prompt = prompt_template.format(\n",
    "    context = \"santa and banta are two friends.Santa slaps banta and tells him he is not funny. Banta slaps him back and says who asked\", \n",
    "    question=\"what happened to banta?\"\n",
    ")\n",
    "\n",
    "\n",
    "response = model.invoke(prompt)\n",
    "print(response.content)"
   ]
  },
  {
   "cell_type": "code",
   "execution_count": 8,
   "id": "dfa04eb0",
   "metadata": {},
   "outputs": [],
   "source": [
    "news='''The September 11 attacks,[f] also known as 9/11,[g] were four coordinated Islamist terrorist suicide attacks by al-Qaeda against the United States in 2001. Nineteen terrorists hijacked four commercial airliners, crashing the first two into the Twin Towers of the World Trade Center in New York City and the third into the Pentagon (headquarters of the U.S. Department of Defense) in Arlington County, Virginia. The fourth plane crashed in a rural Pennsylvania field (present-day, Flight 93 National Memorial) during a passenger revolt. In response to the attacks, the United States waged the global war on terror over multiple decades to eliminate hostile groups deemed terrorist organizations, as well as the governments purported to support them.\n",
    "\n",
    "Ringleader Mohamed Atta flew American Airlines Flight 11 into the North Tower of the World Trade Center complex at 8:46 a.m.[h] Seventeen minutes later at 9:03 a.m.,[i] United Airlines Flight 175 hit the South Tower. Both collapsed within an hour and forty-two minutes,[j] destroying the remaining five structures in the complex. American Airlines Flight 77 crashed into the Pentagon at 9:37 a.m., causing a partial collapse. The fourth and final flight, United Airlines Flight 93, was believed by investigators to target either the United States Capitol or the White House. Alerted to the previous attacks, the passengers revolted against the hijackers who crashed the aircraft into a field near Shanksville, Pennsylvania, at 10:03 a.m. The Federal Aviation Administration ordered an indefinite ground stop for all air traffic in U.S. airspace, preventing any further aircraft departures until September 13 and requiring all airborne aircraft to return to their point of origin or divert to Canada. The actions undertaken in Canada to support incoming aircraft and their occupants were collectively titled Operation Yellow Ribbon.\n",
    "\n",
    "That evening, the Central Intelligence Agency informed President George W. Bush that its Counterterrorism Center had identified the attacks as having been the work of al-Qaeda under Osama bin Laden. The United States responded by launching the war on terror and invading Afghanistan to depose the Taliban, which rejected U.S. terms to expel al-Qaeda from Afghanistan and extradite its leaders. NATO's invocation of Article 5 of the North Atlantic Treaty—its only usage to date—called upon allies to fight al-Qaeda. As U.S. and allied invasion forces swept through Afghanistan, bin Laden eluded them. He denied any involvement until 2004, when excerpts of a taped statement in which he accepted responsibility for the attacks were released. Al-Qaeda's cited motivations included U.S. support of Israel, the presence of U.S. military bases in Saudi Arabia and sanctions against Iraq. The nearly decade-long manhunt for bin Laden concluded in May 2011, when he was killed during a U.S. military raid on his compound in Abbottabad, Pakistan. The War in Afghanistan continued for another eight years until the agreement was made in February 2020 for American and NATO troops to withdraw from the country.\n",
    "\n",
    "The attacks killed 2,977 people, injured thousands more[k] and gave rise to substantial long-term health consequences while also causing at least US$10 billion in infrastructure and property damage. It remains the deadliest terrorist attack in history as well as the deadliest incident for firefighters and law enforcement personnel in American history, killing 343 and 72 members, respectively. The crashes of Flight 11 and Flight 175 were the deadliest aviation disasters of all time, and the collision of Flight 77 with the Pentagon resulted in the fourth-highest number of ground fatalities in a plane crash in history. The destruction of the World Trade Center and its environs, located in Manhattan's Financial District, seriously harmed the U.S. economy and induced global market shocks. Many other countries strengthened anti-terrorism legislation and expanded their powers of law enforcement and intelligence agencies. The total number of deaths caused by the attacks, combined with the death tolls from the conflicts they directly incited, has been estimated by the Costs of War Project to be over 4.5 million.[18]\n",
    "\n",
    "Cleanup of the World Trade Center site (colloquially \"Ground Zero\") was completed in May 2002, while the Pentagon was repaired within a year. After delays in the design of a replacement complex, six new buildings were planned to replace the lost towers, along with a museum and memorial dedicated to those who were killed or injured in the attacks. The tallest building, One World Trade Center, began construction in 2006, opening in 2014. Memorials to the attacks include the National September 11 Memorial & Museum in New York City, the Pentagon Memorial in Arlington County, Virginia, and the Flight 93 National Memorial at the Pennsylvania crash site.\n",
    "\n",
    "'''"
   ]
  },
  {
   "cell_type": "code",
   "execution_count": 9,
   "id": "cb927be1",
   "metadata": {},
   "outputs": [
    {
     "name": "stdout",
     "output_type": "stream",
     "text": [
      "- Four coordinated al‑Qaeda attacks in 2001 killed 2,977 people, injured thousands, and caused $10 billion in damage.  \n",
      "- Two planes struck the Twin Towers (both collapsed within 1 h 42 min), a third hit the Pentagon, and the fourth crashed in Pennsylvania after a passenger revolt.  \n",
      "- The U.S. launched a global war on terror, invading Afghanistan, invoking NATO’s Article 5, and eventually killing Osama bin Laden in 2011.  \n",
      "- The attacks triggered worldwide anti‑terrorism legislation, expanded intelligence powers, and left lasting health and economic impacts.  \n",
      "- Memorials now stand at Ground Zero, the Pentagon, and the Flight 93 crash site, while One World Trade Center opened in 2014.\n"
     ]
    }
   ],
   "source": [
    "prompt=prompt_template.format(\n",
    "    context=news,\n",
    "    question=\"Summarize this in 5 bulletin points\"\n",
    ")\n",
    "\n",
    "print(model.invoke(prompt).content)"
   ]
  },
  {
   "cell_type": "code",
   "execution_count": 18,
   "id": "a9a93b91",
   "metadata": {},
   "outputs": [],
   "source": [
    "with open(\"indianTales.txt\",'r') as file:\n",
    "    book_content=file.read()"
   ]
  },
  {
   "cell_type": "code",
   "execution_count": 31,
   "id": "94617ab7",
   "metadata": {},
   "outputs": [
    {
     "name": "stdout",
     "output_type": "stream",
     "text": [
      "I don't know.\n"
     ]
    }
   ],
   "source": [
    "prompt_template = \"\"\"You are an assistant for question-answering tasks. Use the following pieces of retrieved context to answer the question. If you don't know the answer, just say that you don't know. Use three sentences maximum and keep the answer concise.\n",
    "Question: {question} \n",
    "Context: {context} \n",
    "Answer:\"\"\"\n",
    "\n",
    "prompt = prompt_template.format(\n",
    "    context = book_content[:len(book_content)//40], # sending a part of the text file\n",
    "    question=\"What is this book about?\"\n",
    ")\n",
    "\n",
    "response = model.invoke(prompt)\n",
    "print(response.content)"
   ]
  }
 ],
 "metadata": {
  "kernelspec": {
   "display_name": "base",
   "language": "python",
   "name": "python3"
  },
  "language_info": {
   "codemirror_mode": {
    "name": "ipython",
    "version": 3
   },
   "file_extension": ".py",
   "mimetype": "text/x-python",
   "name": "python",
   "nbconvert_exporter": "python",
   "pygments_lexer": "ipython3",
   "version": "3.13.5"
  }
 },
 "nbformat": 4,
 "nbformat_minor": 5
}
