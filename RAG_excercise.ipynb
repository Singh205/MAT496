{
 "cells": [
  {
   "cell_type": "code",
   "execution_count": null,
   "id": "a0b1bde7",
   "metadata": {},
   "outputs": [],
   "source": [
    "!pip install langchain-groq\n"
   ]
  },
  {
   "cell_type": "code",
   "execution_count": null,
   "id": "ec5c22ae",
   "metadata": {},
   "outputs": [],
   "source": [
    "!pip install langchain-google-genai\n"
   ]
  },
  {
   "cell_type": "code",
   "execution_count": 2,
   "id": "a672f26f",
   "metadata": {},
   "outputs": [],
   "source": [
    "import getpass\n",
    "import os\n",
    "\n",
    "try:\n",
    "    \n",
    "    from dotenv import load_dotenv\n",
    "\n",
    "    load_dotenv()\n",
    "except ImportError:\n",
    "    pass\n",
    "\n",
    "os.environ[\"LANGSMITH_TRACING\"] = \"true\"\n",
    "if \"LANGSMITH_API_KEY\" not in os.environ:\n",
    "    os.environ[\"LANGSMITH_API_KEY\"] = getpass.getpass(\n",
    "        prompt=\"Enter your LangSmith API key (optional): \"\n",
    "    )\n",
    "if \"LANGSMITH_PROJECT\" not in os.environ:\n",
    "    os.environ[\"LANGSMITH_PROJECT\"] = getpass.getpass(\n",
    "        prompt='Enter your LangSmith Project Name (default = \"default\"): '\n",
    "    )\n",
    "    if not os.environ.get(\"LANGSMITH_PROJECT\"):\n",
    "        os.environ[\"LANGSMITH_PROJECT\"] = \"default\""
   ]
  },
  {
   "cell_type": "code",
   "execution_count": 1,
   "id": "75572890",
   "metadata": {},
   "outputs": [],
   "source": [
    "import getpass\n",
    "import os\n",
    "\n",
    "try:\n",
    "    \n",
    "    from dotenv import load_dotenv\n",
    "\n",
    "    load_dotenv()\n",
    "except ImportError:\n",
    "    pass\n",
    "\n",
    "os.environ[\"LANGSMITH_TRACING\"] = \"true\"\n",
    "if \"LANGSMITH_API_KEY\" not in os.environ:\n",
    "    os.environ[\"LANGSMITH_API_KEY\"] = getpass.getpass(\n",
    "        prompt=\"Enter your LangSmith API key (optional): \"\n",
    "    )\n",
    "if \"LANGSMITH_PROJECT\" not in os.environ:\n",
    "    os.environ[\"LANGSMITH_PROJECT\"] = getpass.getpass(\n",
    "        prompt='Enter your LangSmith Project Name (default = \"default\"): '\n",
    "    )\n",
    "    if not os.environ.get(\"LANGSMITH_PROJECT\"):\n",
    "        os.environ[\"LANGSMITH_PROJECT\"] = \"default\""
   ]
  },
  {
   "cell_type": "code",
   "execution_count": 3,
   "id": "03bebb78",
   "metadata": {},
   "outputs": [],
   "source": [
    "from langchain_groq import ChatGroq\n",
    "import os\n",
    "\n",
    "model = ChatGroq(\n",
    "    model=\"openai/gpt-oss-20b\",   \n",
    "    api_key=os.getenv(\"GROQ_API_KEY\")  \n",
    ")\n"
   ]
  },
  {
   "cell_type": "code",
   "execution_count": 4,
   "id": "38a60722",
   "metadata": {},
   "outputs": [],
   "source": [
    "file = open(\"story.txt\",'r')\n",
    "text = file.read()"
   ]
  },
  {
   "cell_type": "code",
   "execution_count": 5,
   "id": "908486c8",
   "metadata": {},
   "outputs": [
    {
     "name": "stdout",
     "output_type": "stream",
     "text": [
      "**Characters in “The Bridge of Second Chances”**\n",
      "\n",
      "| # | Name | Role in the Story | Short Note |\n",
      "|---|------|-------------------|------------|\n",
      "| 1 | **Mr. Virendra Malhotra** | The retired judge from the wealthy western quarter. He is the most skeptical of the bridge’s safety and represents the “old guard” of authority and judgment. | Virendra’s initial suspicion of the bridge mirrors the town’s divide. His act of diving in to save the boy reveals a hidden compassion that transcends his rigid persona, prompting a personal reckoning with his past decisions. |\n",
      "| 2 | **Laila** | A spirited street artist from the east, who has grown up feeling judged by people in suits. She is the creative voice that challenges stereotypes. | Laila’s murals are a form of protest and expression. Her willingness to confront Virendra and admit she misjudged him shows her growth from rebellious outsider to someone who can engage in dialogue. |\n",
      "| 3 | **Captain Rohan Sen** | Former army officer on a job‑interview trip to the west. He embodies discipline and stoicism but carries the weight of war‑related self‑doubt. | Rohan’s leadership during the bridge crisis and his admission of fear demonstrate the human vulnerability behind a disciplined exterior, underscoring the theme that courage can be rekindled in crisis. |\n",
      "| 4 | **Marta Silva** | A middle‑aged migrant from South America who sells snacks to support her son’s education. She is cautious, guarded, and holds a past grievance with Virendra. | Marta’s offering of food and her eventual confession of a past conviction reveal her resilience and capacity for forgiveness. She serves as a bridge between the two sides, literally and metaphorically. |\n",
      "| 5 | **Marta’s Son** (unnamed young boy) | The catalyst for the rescue; he falls into the river and is saved by the group. | His peril forces the strangers to set aside differences and collaborate, turning the bridge from a symbol of division into one of unity. |\n",
      "| 6 | **Rescuers** (briefly mentioned) | The emergency team that arrives after the four strangers have already forged a bond. | They represent the external help that confirms the internal transformation the group has achieved. |\n",
      "\n",
      "---\n",
      "\n",
      "### Analysis of Roles\n",
      "\n",
      "1. **Mr. Virendra Malhotra**  \n",
      "   - *Narrative Function:* The judge represents the institutional authority that has historically maintained the social divide. His presence forces the story to confront the past injustices of the town.  \n",
      "   - *Character Arc:* From a detached, rule‑bound elder to a man who feels the weight of his past judgments and learns empathy.  \n",
      "   - *Symbolism:* His coat, which he removes to save the boy, symbolizes shedding the protective layer of the law to reveal humanity.\n",
      "\n",
      "2. **Laila**  \n",
      "   - *Narrative Function:* The creative outsider who challenges the status quo. She embodies the voice of the marginalized community.  \n",
      "   - *Character Arc:* Moves from defiant mockery to reflective understanding, showing that art can heal as much as it can critique.  \n",
      "   - *Symbolism:* Her murals are a living bridge of stories and emotions across the two sides of the town.\n",
      "\n",
      "3. **Captain Rohan Sen**  \n",
      "   - *Narrative Function:* The disciplined hero who provides a moral compass during the crisis.  \n",
      "   - *Character Arc:* Confronts his fear of failure, illustrating that bravery is not the absence of fear but the will to act in spite of it.  \n",
      "   - *Symbolism:* His military training and the rope he uses to pull the boy up reflect the disciplined but flexible nature of true leadership.\n",
      "\n",
      "4. **Marta Silva**  \n",
      "   - *Narrative Function:* The pragmatic survivor who holds the economic lifeline of the town’s east side.  \n",
      "   - *Character Arc:* Transitions from guarded mistrust to openness, highlighting the healing power of shared hardship.  \n",
      "   - *Symbolism:* Her snack stall becomes a shared space, literally feeding both sides of the river.\n",
      "\n",
      "5. **Marta’s Son**  \n",
      "   - *Narrative Function:* The innocent catalyst that forces the strangers to act together.  \n",
      "   - *Character Arc:* His rescue is a turning point that initiates the “second chances” theme.  \n",
      "   - *Symbolism:* The boy’s fall and rescue embody the fragility of life and the necessity of communal support.\n",
      "\n",
      "6. **Rescuers**  \n",
      "   - *Narrative Function:* Provide closure and validate the group's efforts.  \n",
      "   - *Symbolism:* Their arrival underscores that external help can come, but the true bridge is built by people.\n",
      "\n",
      "---\n",
      "\n",
      "### Short Note on Each Character\n",
      "\n",
      "- **Mr. Virendra Malhotra**: A stern judge whose reputation as a strict enforcer is challenged by an act of compassion. He learns that the law is not just a set of rules but also a responsibility to humanity.  \n",
      "- **Laila**: A street artist who uses color to challenge prejudice. Through her interaction with Virendra, she discovers that art can be a dialogue, not just a critique.  \n",
      "- **Captain Rohan Sen**: A disciplined former soldier who, despite his training, is haunted by the loss of a comrade. In rescuing the boy, he finds renewed courage and a new purpose.  \n",
      "- **Marta Silva**: A resilient migrant who has survived economic hardship and past injustice. She shows that generosity can be found even in the most cautious of people.  \n",
      "- **Marta’s Son**: The innocent who becomes the bridge’s catalyst, reminding us that sometimes the smallest actions can unite the greatest divides.  \n",
      "- **Rescuers**: Their arrival confirms that while the town’s physical bridge is repaired, the emotional bridge built among its inhabitants is the real achievement.  \n",
      "\n",
      "---\n",
      "\n",
      "**Conclusion**\n",
      "\n",
      "“The Bridge of Second Chances” uses each character to personify the social divisions and potential for reconciliation in a riverside town. Through a shared crisis, the judge, artist, soldier, and migrant confront their biases, reveal hidden strengths, and ultimately transform the bridge from a literal crossing into a metaphor for unity.\n"
     ]
    }
   ],
   "source": [
    "prompt_template='''You are a novel reader. You are given a story: {story}. You are tasked to name all the characters in the story and analyse their role and write a short note on all of them.'''\n",
    "\n",
    "response= model.invoke(prompt_template.format(story=text))\n",
    "\n",
    "print(response.content)"
   ]
  },
  {
   "cell_type": "code",
   "execution_count": 6,
   "id": "a6c5b71d",
   "metadata": {},
   "outputs": [
    {
     "data": {
      "text/markdown": [
       "**Characters in “The Bridge of Second Chances”**\n",
       "\n",
       "| # | Name | Role in the Story | Short Note |\n",
       "|---|------|-------------------|------------|\n",
       "| 1 | **Mr. Virendra Malhotra** | The retired judge from the wealthy western quarter. He is the most skeptical of the bridge’s safety and represents the “old guard” of authority and judgment. | Virendra’s initial suspicion of the bridge mirrors the town’s divide. His act of diving in to save the boy reveals a hidden compassion that transcends his rigid persona, prompting a personal reckoning with his past decisions. |\n",
       "| 2 | **Laila** | A spirited street artist from the east, who has grown up feeling judged by people in suits. She is the creative voice that challenges stereotypes. | Laila’s murals are a form of protest and expression. Her willingness to confront Virendra and admit she misjudged him shows her growth from rebellious outsider to someone who can engage in dialogue. |\n",
       "| 3 | **Captain Rohan Sen** | Former army officer on a job‑interview trip to the west. He embodies discipline and stoicism but carries the weight of war‑related self‑doubt. | Rohan’s leadership during the bridge crisis and his admission of fear demonstrate the human vulnerability behind a disciplined exterior, underscoring the theme that courage can be rekindled in crisis. |\n",
       "| 4 | **Marta Silva** | A middle‑aged migrant from South America who sells snacks to support her son’s education. She is cautious, guarded, and holds a past grievance with Virendra. | Marta’s offering of food and her eventual confession of a past conviction reveal her resilience and capacity for forgiveness. She serves as a bridge between the two sides, literally and metaphorically. |\n",
       "| 5 | **Marta’s Son** (unnamed young boy) | The catalyst for the rescue; he falls into the river and is saved by the group. | His peril forces the strangers to set aside differences and collaborate, turning the bridge from a symbol of division into one of unity. |\n",
       "| 6 | **Rescuers** (briefly mentioned) | The emergency team that arrives after the four strangers have already forged a bond. | They represent the external help that confirms the internal transformation the group has achieved. |\n",
       "\n",
       "---\n",
       "\n",
       "### Analysis of Roles\n",
       "\n",
       "1. **Mr. Virendra Malhotra**  \n",
       "   - *Narrative Function:* The judge represents the institutional authority that has historically maintained the social divide. His presence forces the story to confront the past injustices of the town.  \n",
       "   - *Character Arc:* From a detached, rule‑bound elder to a man who feels the weight of his past judgments and learns empathy.  \n",
       "   - *Symbolism:* His coat, which he removes to save the boy, symbolizes shedding the protective layer of the law to reveal humanity.\n",
       "\n",
       "2. **Laila**  \n",
       "   - *Narrative Function:* The creative outsider who challenges the status quo. She embodies the voice of the marginalized community.  \n",
       "   - *Character Arc:* Moves from defiant mockery to reflective understanding, showing that art can heal as much as it can critique.  \n",
       "   - *Symbolism:* Her murals are a living bridge of stories and emotions across the two sides of the town.\n",
       "\n",
       "3. **Captain Rohan Sen**  \n",
       "   - *Narrative Function:* The disciplined hero who provides a moral compass during the crisis.  \n",
       "   - *Character Arc:* Confronts his fear of failure, illustrating that bravery is not the absence of fear but the will to act in spite of it.  \n",
       "   - *Symbolism:* His military training and the rope he uses to pull the boy up reflect the disciplined but flexible nature of true leadership.\n",
       "\n",
       "4. **Marta Silva**  \n",
       "   - *Narrative Function:* The pragmatic survivor who holds the economic lifeline of the town’s east side.  \n",
       "   - *Character Arc:* Transitions from guarded mistrust to openness, highlighting the healing power of shared hardship.  \n",
       "   - *Symbolism:* Her snack stall becomes a shared space, literally feeding both sides of the river.\n",
       "\n",
       "5. **Marta’s Son**  \n",
       "   - *Narrative Function:* The innocent catalyst that forces the strangers to act together.  \n",
       "   - *Character Arc:* His rescue is a turning point that initiates the “second chances” theme.  \n",
       "   - *Symbolism:* The boy’s fall and rescue embody the fragility of life and the necessity of communal support.\n",
       "\n",
       "6. **Rescuers**  \n",
       "   - *Narrative Function:* Provide closure and validate the group's efforts.  \n",
       "   - *Symbolism:* Their arrival underscores that external help can come, but the true bridge is built by people.\n",
       "\n",
       "---\n",
       "\n",
       "### Short Note on Each Character\n",
       "\n",
       "- **Mr. Virendra Malhotra**: A stern judge whose reputation as a strict enforcer is challenged by an act of compassion. He learns that the law is not just a set of rules but also a responsibility to humanity.  \n",
       "- **Laila**: A street artist who uses color to challenge prejudice. Through her interaction with Virendra, she discovers that art can be a dialogue, not just a critique.  \n",
       "- **Captain Rohan Sen**: A disciplined former soldier who, despite his training, is haunted by the loss of a comrade. In rescuing the boy, he finds renewed courage and a new purpose.  \n",
       "- **Marta Silva**: A resilient migrant who has survived economic hardship and past injustice. She shows that generosity can be found even in the most cautious of people.  \n",
       "- **Marta’s Son**: The innocent who becomes the bridge’s catalyst, reminding us that sometimes the smallest actions can unite the greatest divides.  \n",
       "- **Rescuers**: Their arrival confirms that while the town’s physical bridge is repaired, the emotional bridge built among its inhabitants is the real achievement.  \n",
       "\n",
       "---\n",
       "\n",
       "**Conclusion**\n",
       "\n",
       "“The Bridge of Second Chances” uses each character to personify the social divisions and potential for reconciliation in a riverside town. Through a shared crisis, the judge, artist, soldier, and migrant confront their biases, reveal hidden strengths, and ultimately transform the bridge from a literal crossing into a metaphor for unity."
      ],
      "text/plain": [
       "<IPython.core.display.Markdown object>"
      ]
     },
     "execution_count": 6,
     "metadata": {},
     "output_type": "execute_result"
    }
   ],
   "source": [
    "# Better printing\n",
    "\n",
    "from IPython.display import Markdown\n",
    "Markdown(response.content)"
   ]
  },
  {
   "cell_type": "code",
   "execution_count": 7,
   "id": "32ff8f3a",
   "metadata": {},
   "outputs": [],
   "source": [
    "# load text using RELEVANT loader\n",
    "from langchain_community.document_loaders import TextLoader\n",
    "loader = TextLoader(\"physics.txt\")\n",
    "docs = loader.load()"
   ]
  },
  {
   "cell_type": "code",
   "execution_count": 8,
   "id": "14829bb0",
   "metadata": {},
   "outputs": [
    {
     "name": "stdout",
     "output_type": "stream",
     "text": [
      "Split given book into 942 sub-documents.\n"
     ]
    }
   ],
   "source": [
    "# Split document into small chunks\n",
    "from langchain_text_splitters import RecursiveCharacterTextSplitter\n",
    "\n",
    "text_splitter = RecursiveCharacterTextSplitter(\n",
    "    chunk_size=1000,  # chunk size (characters)\n",
    "    chunk_overlap=200,  # chunk overlap (characters)\n",
    "    add_start_index=True,  # track index in original document\n",
    ")\n",
    "all_splits = text_splitter.split_documents(docs)\n",
    "\n",
    "print(f\"Split given book into {len(all_splits)} sub-documents.\")"
   ]
  },
  {
   "cell_type": "code",
   "execution_count": 11,
   "id": "23359838",
   "metadata": {},
   "outputs": [
    {
     "ename": "DefaultCredentialsError",
     "evalue": "Your default credentials were not found. To set up Application Default Credentials, see https://cloud.google.com/docs/authentication/external/set-up-adc for more information.",
     "output_type": "error",
     "traceback": [
      "\u001b[31m---------------------------------------------------------------------------\u001b[39m",
      "\u001b[31mDefaultCredentialsError\u001b[39m                   Traceback (most recent call last)",
      "\u001b[36mCell\u001b[39m\u001b[36m \u001b[39m\u001b[32mIn[11]\u001b[39m\u001b[32m, line 3\u001b[39m\n\u001b[32m      1\u001b[39m \u001b[38;5;28;01mfrom\u001b[39;00m\u001b[38;5;250m \u001b[39m\u001b[34;01mlangchain_google_genai\u001b[39;00m\u001b[38;5;250m \u001b[39m\u001b[38;5;28;01mimport\u001b[39;00m GoogleGenerativeAIEmbeddings\n\u001b[32m----> \u001b[39m\u001b[32m3\u001b[39m embeddings = \u001b[43mGoogleGenerativeAIEmbeddings\u001b[49m\u001b[43m(\u001b[49m\u001b[43mmodel\u001b[49m\u001b[43m=\u001b[49m\u001b[33;43m\"\u001b[39;49m\u001b[33;43mmodels/embedding-001\u001b[39;49m\u001b[33;43m\"\u001b[39;49m\u001b[43m,\u001b[49m\u001b[43m \u001b[49m\u001b[43mgoogle_api_key\u001b[49m\u001b[43m=\u001b[49m\u001b[33;43m\"\u001b[39;49m\u001b[33;43m\"\u001b[39;49m\u001b[43m)\u001b[49m\n\u001b[32m      5\u001b[39m \u001b[38;5;66;03m# Create a vector store\u001b[39;00m\n\u001b[32m      6\u001b[39m \u001b[38;5;66;03m# (CLASSROOM DISCUSSION: What are vector stores? What do we make them?)\u001b[39;00m\n\u001b[32m      7\u001b[39m \u001b[38;5;28;01mfrom\u001b[39;00m\u001b[38;5;250m \u001b[39m\u001b[34;01mlangchain_core\u001b[39;00m\u001b[34;01m.\u001b[39;00m\u001b[34;01mvectorstores\u001b[39;00m\u001b[38;5;250m \u001b[39m\u001b[38;5;28;01mimport\u001b[39;00m InMemoryVectorStore\n",
      "    \u001b[31m[... skipping hidden 1 frame]\u001b[39m\n",
      "\u001b[36mFile \u001b[39m\u001b[32mc:\\Users\\aksha\\miniconda3\\Lib\\site-packages\\langchain_google_genai\\embeddings.py:112\u001b[39m, in \u001b[36mGoogleGenerativeAIEmbeddings.validate_environment\u001b[39m\u001b[34m(self)\u001b[39m\n\u001b[32m    109\u001b[39m \u001b[38;5;28;01mif\u001b[39;00m \u001b[38;5;129;01mnot\u001b[39;00m \u001b[38;5;28many\u001b[39m(\u001b[38;5;28mself\u001b[39m.model.startswith(prefix) \u001b[38;5;28;01mfor\u001b[39;00m prefix \u001b[38;5;129;01min\u001b[39;00m (\u001b[33m\"\u001b[39m\u001b[33mmodels/\u001b[39m\u001b[33m\"\u001b[39m,)):\n\u001b[32m    110\u001b[39m     \u001b[38;5;28mself\u001b[39m.model = \u001b[33mf\u001b[39m\u001b[33m\"\u001b[39m\u001b[33mmodels/\u001b[39m\u001b[38;5;132;01m{\u001b[39;00m\u001b[38;5;28mself\u001b[39m.model\u001b[38;5;132;01m}\u001b[39;00m\u001b[33m\"\u001b[39m\n\u001b[32m--> \u001b[39m\u001b[32m112\u001b[39m \u001b[38;5;28mself\u001b[39m.client = \u001b[43mbuild_generative_service\u001b[49m\u001b[43m(\u001b[49m\n\u001b[32m    113\u001b[39m \u001b[43m    \u001b[49m\u001b[43mcredentials\u001b[49m\u001b[43m=\u001b[49m\u001b[38;5;28;43mself\u001b[39;49m\u001b[43m.\u001b[49m\u001b[43mcredentials\u001b[49m\u001b[43m,\u001b[49m\n\u001b[32m    114\u001b[39m \u001b[43m    \u001b[49m\u001b[43mapi_key\u001b[49m\u001b[43m=\u001b[49m\u001b[43mgoogle_api_key\u001b[49m\u001b[43m,\u001b[49m\n\u001b[32m    115\u001b[39m \u001b[43m    \u001b[49m\u001b[43mclient_info\u001b[49m\u001b[43m=\u001b[49m\u001b[43mclient_info\u001b[49m\u001b[43m,\u001b[49m\n\u001b[32m    116\u001b[39m \u001b[43m    \u001b[49m\u001b[43mclient_options\u001b[49m\u001b[43m=\u001b[49m\u001b[38;5;28;43mself\u001b[39;49m\u001b[43m.\u001b[49m\u001b[43mclient_options\u001b[49m\u001b[43m,\u001b[49m\n\u001b[32m    117\u001b[39m \u001b[43m    \u001b[49m\u001b[43mtransport\u001b[49m\u001b[43m=\u001b[49m\u001b[38;5;28;43mself\u001b[39;49m\u001b[43m.\u001b[49m\u001b[43mtransport\u001b[49m\u001b[43m,\u001b[49m\n\u001b[32m    118\u001b[39m \u001b[43m\u001b[49m\u001b[43m)\u001b[49m\n\u001b[32m    119\u001b[39m \u001b[38;5;66;03m# Only initialize async client if there's an event loop running\u001b[39;00m\n\u001b[32m    120\u001b[39m \u001b[38;5;66;03m# to avoid RuntimeError during synchronous initialization\u001b[39;00m\n\u001b[32m    121\u001b[39m \u001b[38;5;28;01mif\u001b[39;00m _is_event_loop_running():\n\u001b[32m    122\u001b[39m     \u001b[38;5;66;03m# async clients don't support \"rest\" transport\u001b[39;00m\n",
      "\u001b[36mFile \u001b[39m\u001b[32mc:\\Users\\aksha\\miniconda3\\Lib\\site-packages\\langchain_google_genai\\_genai_extension.py:276\u001b[39m, in \u001b[36mbuild_generative_service\u001b[39m\u001b[34m(credentials, api_key, client_options, client_info, transport)\u001b[39m\n\u001b[32m    262\u001b[39m \u001b[38;5;28;01mdef\u001b[39;00m\u001b[38;5;250m \u001b[39m\u001b[34mbuild_generative_service\u001b[39m(\n\u001b[32m    263\u001b[39m     credentials: Optional[credentials.Credentials] = \u001b[38;5;28;01mNone\u001b[39;00m,\n\u001b[32m    264\u001b[39m     api_key: Optional[\u001b[38;5;28mstr\u001b[39m] = \u001b[38;5;28;01mNone\u001b[39;00m,\n\u001b[32m   (...)\u001b[39m\u001b[32m    267\u001b[39m     transport: Optional[\u001b[38;5;28mstr\u001b[39m] = \u001b[38;5;28;01mNone\u001b[39;00m,\n\u001b[32m    268\u001b[39m ) -> v1betaGenerativeServiceClient:\n\u001b[32m    269\u001b[39m     config = _prepare_config(\n\u001b[32m    270\u001b[39m         credentials=credentials,\n\u001b[32m    271\u001b[39m         api_key=api_key,\n\u001b[32m   (...)\u001b[39m\u001b[32m    274\u001b[39m         client_info=client_info,\n\u001b[32m    275\u001b[39m     )\n\u001b[32m--> \u001b[39m\u001b[32m276\u001b[39m     \u001b[38;5;28;01mreturn\u001b[39;00m \u001b[43mv1betaGenerativeServiceClient\u001b[49m\u001b[43m(\u001b[49m\u001b[43m*\u001b[49m\u001b[43m*\u001b[49m\u001b[43mconfig\u001b[49m\u001b[43m)\u001b[49m\n",
      "\u001b[36mFile \u001b[39m\u001b[32mc:\\Users\\aksha\\miniconda3\\Lib\\site-packages\\google\\ai\\generativelanguage_v1beta\\services\\generative_service\\client.py:698\u001b[39m, in \u001b[36mGenerativeServiceClient.__init__\u001b[39m\u001b[34m(self, credentials, transport, client_options, client_info)\u001b[39m\n\u001b[32m    689\u001b[39m     transport_init: Union[\n\u001b[32m    690\u001b[39m         Type[GenerativeServiceTransport],\n\u001b[32m    691\u001b[39m         Callable[..., GenerativeServiceTransport],\n\u001b[32m   (...)\u001b[39m\u001b[32m    695\u001b[39m         \u001b[38;5;28;01melse\u001b[39;00m cast(Callable[..., GenerativeServiceTransport], transport)\n\u001b[32m    696\u001b[39m     )\n\u001b[32m    697\u001b[39m     \u001b[38;5;66;03m# initialize with the provided callable or the passed in class\u001b[39;00m\n\u001b[32m--> \u001b[39m\u001b[32m698\u001b[39m     \u001b[38;5;28mself\u001b[39m._transport = \u001b[43mtransport_init\u001b[49m\u001b[43m(\u001b[49m\n\u001b[32m    699\u001b[39m \u001b[43m        \u001b[49m\u001b[43mcredentials\u001b[49m\u001b[43m=\u001b[49m\u001b[43mcredentials\u001b[49m\u001b[43m,\u001b[49m\n\u001b[32m    700\u001b[39m \u001b[43m        \u001b[49m\u001b[43mcredentials_file\u001b[49m\u001b[43m=\u001b[49m\u001b[38;5;28;43mself\u001b[39;49m\u001b[43m.\u001b[49m\u001b[43m_client_options\u001b[49m\u001b[43m.\u001b[49m\u001b[43mcredentials_file\u001b[49m\u001b[43m,\u001b[49m\n\u001b[32m    701\u001b[39m \u001b[43m        \u001b[49m\u001b[43mhost\u001b[49m\u001b[43m=\u001b[49m\u001b[38;5;28;43mself\u001b[39;49m\u001b[43m.\u001b[49m\u001b[43m_api_endpoint\u001b[49m\u001b[43m,\u001b[49m\n\u001b[32m    702\u001b[39m \u001b[43m        \u001b[49m\u001b[43mscopes\u001b[49m\u001b[43m=\u001b[49m\u001b[38;5;28;43mself\u001b[39;49m\u001b[43m.\u001b[49m\u001b[43m_client_options\u001b[49m\u001b[43m.\u001b[49m\u001b[43mscopes\u001b[49m\u001b[43m,\u001b[49m\n\u001b[32m    703\u001b[39m \u001b[43m        \u001b[49m\u001b[43mclient_cert_source_for_mtls\u001b[49m\u001b[43m=\u001b[49m\u001b[38;5;28;43mself\u001b[39;49m\u001b[43m.\u001b[49m\u001b[43m_client_cert_source\u001b[49m\u001b[43m,\u001b[49m\n\u001b[32m    704\u001b[39m \u001b[43m        \u001b[49m\u001b[43mquota_project_id\u001b[49m\u001b[43m=\u001b[49m\u001b[38;5;28;43mself\u001b[39;49m\u001b[43m.\u001b[49m\u001b[43m_client_options\u001b[49m\u001b[43m.\u001b[49m\u001b[43mquota_project_id\u001b[49m\u001b[43m,\u001b[49m\n\u001b[32m    705\u001b[39m \u001b[43m        \u001b[49m\u001b[43mclient_info\u001b[49m\u001b[43m=\u001b[49m\u001b[43mclient_info\u001b[49m\u001b[43m,\u001b[49m\n\u001b[32m    706\u001b[39m \u001b[43m        \u001b[49m\u001b[43malways_use_jwt_access\u001b[49m\u001b[43m=\u001b[49m\u001b[38;5;28;43;01mTrue\u001b[39;49;00m\u001b[43m,\u001b[49m\n\u001b[32m    707\u001b[39m \u001b[43m        \u001b[49m\u001b[43mapi_audience\u001b[49m\u001b[43m=\u001b[49m\u001b[38;5;28;43mself\u001b[39;49m\u001b[43m.\u001b[49m\u001b[43m_client_options\u001b[49m\u001b[43m.\u001b[49m\u001b[43mapi_audience\u001b[49m\u001b[43m,\u001b[49m\n\u001b[32m    708\u001b[39m \u001b[43m    \u001b[49m\u001b[43m)\u001b[49m\n\u001b[32m    710\u001b[39m \u001b[38;5;28;01mif\u001b[39;00m \u001b[33m\"\u001b[39m\u001b[33masync\u001b[39m\u001b[33m\"\u001b[39m \u001b[38;5;129;01mnot\u001b[39;00m \u001b[38;5;129;01min\u001b[39;00m \u001b[38;5;28mstr\u001b[39m(\u001b[38;5;28mself\u001b[39m._transport):\n\u001b[32m    711\u001b[39m     \u001b[38;5;28;01mif\u001b[39;00m CLIENT_LOGGING_SUPPORTED \u001b[38;5;129;01mand\u001b[39;00m _LOGGER.isEnabledFor(\n\u001b[32m    712\u001b[39m         std_logging.DEBUG\n\u001b[32m    713\u001b[39m     ):  \u001b[38;5;66;03m# pragma: NO COVER\u001b[39;00m\n",
      "\u001b[36mFile \u001b[39m\u001b[32mc:\\Users\\aksha\\miniconda3\\Lib\\site-packages\\google\\ai\\generativelanguage_v1beta\\services\\generative_service\\transports\\grpc.py:234\u001b[39m, in \u001b[36mGenerativeServiceGrpcTransport.__init__\u001b[39m\u001b[34m(self, host, credentials, credentials_file, scopes, channel, api_mtls_endpoint, client_cert_source, ssl_channel_credentials, client_cert_source_for_mtls, quota_project_id, client_info, always_use_jwt_access, api_audience)\u001b[39m\n\u001b[32m    229\u001b[39m             \u001b[38;5;28mself\u001b[39m._ssl_channel_credentials = grpc.ssl_channel_credentials(\n\u001b[32m    230\u001b[39m                 certificate_chain=cert, private_key=key\n\u001b[32m    231\u001b[39m             )\n\u001b[32m    233\u001b[39m \u001b[38;5;66;03m# The base transport sets the host, credentials and scopes\u001b[39;00m\n\u001b[32m--> \u001b[39m\u001b[32m234\u001b[39m \u001b[38;5;28;43msuper\u001b[39;49m\u001b[43m(\u001b[49m\u001b[43m)\u001b[49m\u001b[43m.\u001b[49m\u001b[34;43m__init__\u001b[39;49m\u001b[43m(\u001b[49m\n\u001b[32m    235\u001b[39m \u001b[43m    \u001b[49m\u001b[43mhost\u001b[49m\u001b[43m=\u001b[49m\u001b[43mhost\u001b[49m\u001b[43m,\u001b[49m\n\u001b[32m    236\u001b[39m \u001b[43m    \u001b[49m\u001b[43mcredentials\u001b[49m\u001b[43m=\u001b[49m\u001b[43mcredentials\u001b[49m\u001b[43m,\u001b[49m\n\u001b[32m    237\u001b[39m \u001b[43m    \u001b[49m\u001b[43mcredentials_file\u001b[49m\u001b[43m=\u001b[49m\u001b[43mcredentials_file\u001b[49m\u001b[43m,\u001b[49m\n\u001b[32m    238\u001b[39m \u001b[43m    \u001b[49m\u001b[43mscopes\u001b[49m\u001b[43m=\u001b[49m\u001b[43mscopes\u001b[49m\u001b[43m,\u001b[49m\n\u001b[32m    239\u001b[39m \u001b[43m    \u001b[49m\u001b[43mquota_project_id\u001b[49m\u001b[43m=\u001b[49m\u001b[43mquota_project_id\u001b[49m\u001b[43m,\u001b[49m\n\u001b[32m    240\u001b[39m \u001b[43m    \u001b[49m\u001b[43mclient_info\u001b[49m\u001b[43m=\u001b[49m\u001b[43mclient_info\u001b[49m\u001b[43m,\u001b[49m\n\u001b[32m    241\u001b[39m \u001b[43m    \u001b[49m\u001b[43malways_use_jwt_access\u001b[49m\u001b[43m=\u001b[49m\u001b[43malways_use_jwt_access\u001b[49m\u001b[43m,\u001b[49m\n\u001b[32m    242\u001b[39m \u001b[43m    \u001b[49m\u001b[43mapi_audience\u001b[49m\u001b[43m=\u001b[49m\u001b[43mapi_audience\u001b[49m\u001b[43m,\u001b[49m\n\u001b[32m    243\u001b[39m \u001b[43m\u001b[49m\u001b[43m)\u001b[49m\n\u001b[32m    245\u001b[39m \u001b[38;5;28;01mif\u001b[39;00m \u001b[38;5;129;01mnot\u001b[39;00m \u001b[38;5;28mself\u001b[39m._grpc_channel:\n\u001b[32m    246\u001b[39m     \u001b[38;5;66;03m# initialize with the provided callable or the default channel\u001b[39;00m\n\u001b[32m    247\u001b[39m     channel_init = channel \u001b[38;5;129;01mor\u001b[39;00m \u001b[38;5;28mtype\u001b[39m(\u001b[38;5;28mself\u001b[39m).create_channel\n",
      "\u001b[36mFile \u001b[39m\u001b[32mc:\\Users\\aksha\\miniconda3\\Lib\\site-packages\\google\\ai\\generativelanguage_v1beta\\services\\generative_service\\transports\\base.py:104\u001b[39m, in \u001b[36mGenerativeServiceTransport.__init__\u001b[39m\u001b[34m(self, host, credentials, credentials_file, scopes, quota_project_id, client_info, always_use_jwt_access, api_audience, **kwargs)\u001b[39m\n\u001b[32m    100\u001b[39m     credentials, _ = google.auth.load_credentials_from_file(\n\u001b[32m    101\u001b[39m         credentials_file, **scopes_kwargs, quota_project_id=quota_project_id\n\u001b[32m    102\u001b[39m     )\n\u001b[32m    103\u001b[39m \u001b[38;5;28;01melif\u001b[39;00m credentials \u001b[38;5;129;01mis\u001b[39;00m \u001b[38;5;28;01mNone\u001b[39;00m \u001b[38;5;129;01mand\u001b[39;00m \u001b[38;5;129;01mnot\u001b[39;00m \u001b[38;5;28mself\u001b[39m._ignore_credentials:\n\u001b[32m--> \u001b[39m\u001b[32m104\u001b[39m     credentials, _ = \u001b[43mgoogle\u001b[49m\u001b[43m.\u001b[49m\u001b[43mauth\u001b[49m\u001b[43m.\u001b[49m\u001b[43mdefault\u001b[49m\u001b[43m(\u001b[49m\n\u001b[32m    105\u001b[39m \u001b[43m        \u001b[49m\u001b[43m*\u001b[49m\u001b[43m*\u001b[49m\u001b[43mscopes_kwargs\u001b[49m\u001b[43m,\u001b[49m\u001b[43m \u001b[49m\u001b[43mquota_project_id\u001b[49m\u001b[43m=\u001b[49m\u001b[43mquota_project_id\u001b[49m\n\u001b[32m    106\u001b[39m \u001b[43m    \u001b[49m\u001b[43m)\u001b[49m\n\u001b[32m    107\u001b[39m     \u001b[38;5;66;03m# Don't apply audience if the credentials file passed from user.\u001b[39;00m\n\u001b[32m    108\u001b[39m     \u001b[38;5;28;01mif\u001b[39;00m \u001b[38;5;28mhasattr\u001b[39m(credentials, \u001b[33m\"\u001b[39m\u001b[33mwith_gdch_audience\u001b[39m\u001b[33m\"\u001b[39m):\n",
      "\u001b[36mFile \u001b[39m\u001b[32mc:\\Users\\aksha\\miniconda3\\Lib\\site-packages\\google\\auth\\_default.py:685\u001b[39m, in \u001b[36mdefault\u001b[39m\u001b[34m(scopes, request, quota_project_id, default_scopes)\u001b[39m\n\u001b[32m    677\u001b[39m             _LOGGER.warning(\n\u001b[32m    678\u001b[39m                 \u001b[33m\"\u001b[39m\u001b[33mNo project ID could be determined. Consider running \u001b[39m\u001b[33m\"\u001b[39m\n\u001b[32m    679\u001b[39m                 \u001b[33m\"\u001b[39m\u001b[33m`gcloud config set project` or setting the \u001b[39m\u001b[38;5;132;01m%s\u001b[39;00m\u001b[33m \u001b[39m\u001b[33m\"\u001b[39m\n\u001b[32m    680\u001b[39m                 \u001b[33m\"\u001b[39m\u001b[33menvironment variable\u001b[39m\u001b[33m\"\u001b[39m,\n\u001b[32m    681\u001b[39m                 environment_vars.PROJECT,\n\u001b[32m    682\u001b[39m             )\n\u001b[32m    683\u001b[39m         \u001b[38;5;28;01mreturn\u001b[39;00m credentials, effective_project_id\n\u001b[32m--> \u001b[39m\u001b[32m685\u001b[39m \u001b[38;5;28;01mraise\u001b[39;00m exceptions.DefaultCredentialsError(_CLOUD_SDK_MISSING_CREDENTIALS)\n",
      "\u001b[31mDefaultCredentialsError\u001b[39m: Your default credentials were not found. To set up Application Default Credentials, see https://cloud.google.com/docs/authentication/external/set-up-adc for more information."
     ]
    }
   ],
   "source": [
    "from langchain_google_genai import GoogleGenerativeAIEmbeddings\n",
    "\n",
    "embeddings = GoogleGenerativeAIEmbeddings(model=\"models/embedding-001\", google_api_key=\"\")\n",
    "\n",
    "# Create a vector store\n",
    "# (CLASSROOM DISCUSSION: What are vector stores? What do we make them?)\n",
    "from langchain_core.vectorstores import InMemoryVectorStore\n",
    "vector_store = InMemoryVectorStore(embeddings)\n",
    "\n",
    "# Adding documents to vector store\n",
    "document_ids = vector_store.add_documents(documents=all_splits)"
   ]
  }
 ],
 "metadata": {
  "kernelspec": {
   "display_name": "base",
   "language": "python",
   "name": "python3"
  },
  "language_info": {
   "codemirror_mode": {
    "name": "ipython",
    "version": 3
   },
   "file_extension": ".py",
   "mimetype": "text/x-python",
   "name": "python",
   "nbconvert_exporter": "python",
   "pygments_lexer": "ipython3",
   "version": "3.13.5"
  }
 },
 "nbformat": 4,
 "nbformat_minor": 5
}
